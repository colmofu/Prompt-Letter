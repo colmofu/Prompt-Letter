{
 "cells": [
  {
   "cell_type": "code",
   "execution_count": 11,
   "metadata": {},
   "outputs": [],
   "source": [
    "import openai\n",
    "import os\n",
    "\n",
    "\n",
    "assert os.getenv(\"OPENAI_API_KEY\"), \"environment variable not defined\"\n",
    "openai.api_key = os.getenv(\"OPENAI_API_KEY\")\n",
    "\n",
    "def get_completion(prompt, model=\"gpt-3.5-turbo\"):\n",
    "    \"\"\"\n",
    "    Helper function to get completion from model based on a prompt input\n",
    "    \"\"\"\n",
    "    \n",
    "    messages = [{\"role\": \"user\", \"content\": prompt}]\n",
    "    response = openai.ChatCompletion.create(\n",
    "        model=model,\n",
    "        messages=messages,\n",
    "        temperature=0, # this is the degree of randomness of the model's output\n",
    "    )\n",
    "    return response.choices[0].message[\"content\"]"
   ]
  },
  {
   "cell_type": "code",
   "execution_count": 12,
   "metadata": {},
   "outputs": [
    {
     "name": "stdout",
     "output_type": "stream",
     "text": [
      "\n",
      "8/7/23, 1 1:09 AM Prompt Engineer (m/f/d) | Jobs at Circus\n",
      "https://circus.jobs.personio.com/job/1 186938?language=en&display=en 1/3\n",
      " See all positions\n",
      "Prompt Engineer (m/f/d)\n",
      "Permanent employee, Full-time · Hamburg, Berlin\n",
      "OUR MISSION\n",
      "At Circus we believe cooking should be a loved hobby but not a daily necessity . Driven by the mission\n",
      "to fuel people's busy everyday lives, we are building a radically more convenient, sustainable, and\n",
      "affordable solution in food delivery .\n",
      "Served by our local kitchen hubs we’re of fering weekly changing menus designed in collaboration with\n",
      "Top Chefs and Creators to bring a private chef experience to your dinner table on-demand.\n",
      "Take a seat at our table and join an ambitious team on a common mission to change the way people\n",
      "eat for the better . Bon Appétit!\n",
      "ABOUT  THE ROLE\n",
      "We are looking for a Prompt Engineer (m/f/d)  to make food delivery more scalable and better for\n",
      "everyone. In this role, you will play a crucial role in implementing, developing and enhancing the\n",
      "capabilities of AI models, particularly in the context of generating prompts and responses for our\n",
      "applications.\n",
      "You will collaborate with cross-functional teams, including data scientists, software engineers, to deliver\n",
      "innovative solutions and contribute to the advancement of NLP  systems, overall increased ef ficiency\n",
      "and pioneering AI in the food delivery industry .\n",
      "\n",
      "8/7/23, 1 1:09 AM Prompt Engineer (m/f/d) | Jobs at Circus\n",
      "https://circus.jobs.personio.com/job/1 186938?language=en&display=en 2/3YOUR DAIL Y BUSINESS\n",
      "Design and develop prompt engineering methodologies to improve the output of AI models. This\n",
      "includes creating ef fective prompts, rewriting, paraphrasing, and refining text inputs to generate\n",
      "desired responses.\n",
      "Build and implement a process prompting system and internal services structure. Identify\n",
      "opportunities and create proof-of-concepts for scalable business solutions.\n",
      "Development of interfaces and integration of AI tools into existing engineering tools and systems.\n",
      "Analyze data to understand patterns, trends, and areas for improvement in our business\n",
      "processes. Identify issues in prompt-response generation and develop strategies to mitigate\n",
      "biases, errors, or limitations in the output.\n",
      "Experimentation and Iteration: Conduct rigorous experimentation and iteration cycles to refine\n",
      "prompt engineering techniques. Use metrics and evaluation methods to measure the impact of\n",
      "prompt modifications and optimize AI model performance.\n",
      "Collaboration and Communication: W ork closely with cross-functional teams, including data\n",
      "scientists, software engineers, and external agenciews to exchange knowledge, discuss\n",
      "requirements, and contribute to the overall development of AI systems. \n",
      "You will work closely with our CT O and report directly into our AI Applications Lead\n",
      "BASE QUALIFICA TIONS\n",
      "Bachelor's or higher degree in computer science, artificial intelligence, or a related field.\n",
      "Strong understanding of natural language processing (NLP) and deep learning models.\n",
      "Proficiency in programming languages such as Python and familiarity with machine learning\n",
      "frameworks .\n",
      "Experience in prompt engineering, text generation, or related areas is highly desirable.\n",
      "Solid analytical and problem-solving skills, with the ability to identify and address limitations in AI\n",
      "model performance.\n",
      "8/7/23, 1 1:09 AM Prompt Engineer (m/f/d) | Jobs at Circus\n",
      "https://circus.jobs.personio.com/job/1 186938?language=en&display=en 3/3Strong communication and collaboration skills to work ef fectively with multidisciplinary teams.\n",
      "Self-motivated and able to work independently , as well as in a team-oriented environment.\n",
      "OUR OFFER\n",
      "Have the chance to pioneer AI & Prompt Engineering in our business and for the industry as a\n",
      "whole  \n",
      "A compensation package that aligns with the market of fer\n",
      "Urban Sports Club discounts \n",
      "Monthly mobility budget \n",
      "Learning and Development Budget\n",
      "30% Discount on your personal Circus orders\n",
      "Hybrid work setup: you can work from our beautiful of fices in Hamburg or Berlin or choose to work\n",
      "remotely if needed\n",
      "Apply for this position\n",
      "   \n",
      "  \n"
     ]
    }
   ],
   "source": [
    "## Handling the job\n",
    "# creating a pdf file object\n",
    "import PyPDF2\n",
    "\n",
    "job_file_name = 'job_posting.pdf'\n",
    "job_file_obj = open(os.path.abspath(os.path.join(\"pdf_files\", job_file_name)), 'rb')\n",
    "  \n",
    "# creating a pdf reader object\n",
    "job_reader = PyPDF2.PdfReader(job_file_obj)\n",
    "  \n",
    "# printing number of pages in pdf file\n",
    "job_num_pages = len(job_reader.pages)\n",
    "  \n",
    "# Extract text for each page\n",
    "job_text = ''\n",
    "for page in range(0, job_num_pages):\n",
    "    job_obj = job_reader.pages[page]\n",
    "    page_text = job_obj.extract_text()\n",
    "    job_text = '\\n'.join([job_text, page_text])\n",
    "\n",
    "print(job_text)\n",
    "\n",
    "# closing the pdf file object\n",
    "job_file_obj.close()"
   ]
  },
  {
   "cell_type": "code",
   "execution_count": 13,
   "metadata": {},
   "outputs": [],
   "source": [
    "## Handling the cv\n",
    "# creating a pdf file object\n",
    "cv_file_name = 'cv'\n",
    "cv_file_obj = open(os.path.abspath(os.path.join(\"pdf_files\", cv_file_name + '.pdf')), 'rb')\n",
    "  \n",
    "# creating a pdf reader object\n",
    "cv_reader = PyPDF2.PdfReader(cv_file_obj)\n",
    "  \n",
    "# printing number of pages in pdf file\n",
    "cv_num_pages = len(cv_reader.pages)\n",
    "  \n",
    "# creating a page object\n",
    "cv_obj = cv_reader.pages[0]\n",
    "\n",
    "# extracting text from pages\n",
    "cv_text = ''\n",
    "for page in range(0, cv_num_pages):\n",
    "    cv_obj = cv_reader.pages[page]\n",
    "    page_text = cv_obj.extract_text()\n",
    "    cv_text = '\\n'.join([cv_text, page_text])\n",
    "    \n",
    "  \n",
    "# closing the pdf file object\n",
    "cv_file_obj.close()"
   ]
  },
  {
   "cell_type": "code",
   "execution_count": 14,
   "metadata": {},
   "outputs": [],
   "source": [
    "def write_letter(job_posting: str, resume: str, lang = 'en', field = 'tech/data', *args, **kwargs):\n",
    "    \"\"\"\n",
    "    Write cover letter for a job post in either English (default) or German.\n",
    "    \"\"\"\n",
    "    languages = {'en': 'English',\n",
    "                 'de': 'German'}\n",
    "    \n",
    "    prompt_topic = f\"\"\"\n",
    "    You are an assistant for writing cover letters for job applications in the {field} field. You will receive the /\n",
    "    job posting (`job_posting`) and applicant's resume (`resume`) as arguments. Using these documents and your expertise as a career specialist, /\n",
    "    write a professional cover letter using sharp and field-relevant language. \n",
    "\n",
    "    Provide the output in string format in the {languages[lang]} language. The cover letter should be 300-350 words in total. The letter should /\n",
    "    consist of a conventional format for a cover letter: /\n",
    "    - An empty skeleton area for the user to enter the mailing information of the recruiter, /\n",
    "    followed by a conventional greeting and the body split into three paragraphs.\n",
    "     - A first paragraph consisting of 2-3 sentences, mentioning the position, the company, /\n",
    "    and what attracted the applicant to the role. It should grasp the readers attention.\n",
    "     - A second paragraph convincing the reader that the applicant is the perfect fit for the role, highlighting relevant experience. Here, /\n",
    "    the letter should link relevant skills in the job-posting to compatible items found in the readers resume. It should be fact driven /\n",
    "    and lean heavily on who the applicant is.\n",
    "     - A third paragraph explaining what attracted the applicant to the company and position. Use what is provided about the role and company in the /\n",
    "    job posting, and if provided, the additional arguments.\n",
    "     - A concluding paragraph thanking the reader for their time and following a standard conclusion. \n",
    "        \n",
    "\n",
    "    Review job_posting: '''{job_posting}'''\n",
    "    Review resume: '''{resume}'''\n",
    "    \"\"\"\n",
    "\n",
    "    letter = get_completion(prompt_topic)\n",
    "\n",
    "    return letter"
   ]
  },
  {
   "cell_type": "code",
   "execution_count": 15,
   "metadata": {},
   "outputs": [],
   "source": [
    "letter = write_letter(job_text, cv_text)"
   ]
  },
  {
   "cell_type": "code",
   "execution_count": 16,
   "metadata": {},
   "outputs": [
    {
     "data": {
      "text/plain": [
       "\"[Your Name]\\n[Your Address]\\n[City, State, ZIP Code]\\n[Email Address]\\n[Phone Number]\\n[Date]\\n\\n[Recruiter's Name]\\n[Recruiter's Job Title]\\n[Company Name]\\n[Company Address]\\n[City, State, ZIP Code]\\n\\nDear [Recruiter's Name],\\n\\nI am writing to express my interest in the Prompt Engineer position at Circus. As a recent Data Science Bootcamp graduate with a passion for programming and predictive models, I was immediately drawn to the opportunity to contribute to the advancement of AI models in the food delivery industry.\\n\\nUpon reviewing the job posting, I was particularly intrigued by the emphasis on making food delivery more scalable and better for everyone. The prospect of implementing, developing, and enhancing AI models to generate prompts and responses aligns perfectly with my skill set and career aspirations. I am confident that my strong understanding of natural language processing (NLP) and deep learning models, coupled with my proficiency in Python and familiarity with machine learning frameworks, will enable me to excel in this role.\\n\\nIn my previous experience as a Teaching Assistant at Le Wagon's Data Science Bootcamp, I assisted students in approaching data science challenges and projects. This experience honed my problem-solving skills and allowed me to develop a deep understanding of the practical applications of AI and machine learning. Additionally, my background as a Student Researcher at Leibniz-Institut Universität Bremen and Student Assistant at the University of Groningen equipped me with solid analytical and communication skills, which are essential for collaborating with cross-functional teams.\\n\\nWhat attracted me to Circus is not only the opportunity to work on cutting-edge AI technologies but also the company's mission to change the way people eat for the better. The collaborative and innovative environment described in the job posting resonates with my values and career goals. I am excited about the chance to pioneer AI and Prompt Engineering in the food delivery industry and contribute to Circus's vision.\\n\\nThank you for considering my application. I am confident that my technical expertise, strong communication skills, and passion for AI will make me a valuable asset to Circus. I would welcome the opportunity to discuss how my qualifications align with the Prompt Engineer role in more detail. Please find my attached resume for your review.\\n\\nThank you for your time and consideration.\\n\\nSincerely,\\n\\n[Your Name]\""
      ]
     },
     "execution_count": 16,
     "metadata": {},
     "output_type": "execute_result"
    }
   ],
   "source": [
    "letter"
   ]
  },
  {
   "cell_type": "code",
   "execution_count": 17,
   "metadata": {},
   "outputs": [
    {
     "data": {
      "text/plain": [
       "''"
      ]
     },
     "execution_count": 17,
     "metadata": {},
     "output_type": "execute_result"
    }
   ],
   "source": [
    "from fpdf import FPDF\n",
    "\n",
    "# Create a PDF instance\n",
    "pdf = FPDF()\n",
    "pdf.add_page()\n",
    "pdf.set_font(\"Arial\", size=12)\n",
    "\n",
    "# Add the string text to the PDF\n",
    "pdf.multi_cell(0, 10, letter)\n",
    "\n",
    "# Save the PDF to a file\n",
    "pdf.output(\"pdf_files/letter.pdf\")"
   ]
  },
  {
   "cell_type": "code",
   "execution_count": null,
   "metadata": {},
   "outputs": [],
   "source": []
  }
 ],
 "metadata": {
  "kernelspec": {
   "display_name": "base",
   "language": "python",
   "name": "python3"
  },
  "language_info": {
   "codemirror_mode": {
    "name": "ipython",
    "version": 3
   },
   "file_extension": ".py",
   "mimetype": "text/x-python",
   "name": "python",
   "nbconvert_exporter": "python",
   "pygments_lexer": "ipython3",
   "version": "3.10.6"
  },
  "orig_nbformat": 4
 },
 "nbformat": 4,
 "nbformat_minor": 2
}
